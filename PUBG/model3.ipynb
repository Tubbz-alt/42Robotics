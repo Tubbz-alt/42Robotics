{
  "cells": [
    {
      "metadata": {
        "_uuid": "8f2839f25d086af736a60e9eeb907d3b93b6e0e5",
        "_cell_guid": "b1076dfc-b9ad-4769-8c92-a6c4dae69d19",
        "trusted": true
      },
      "cell_type": "code",
      "source": "import numpy as np # linear algebra\nimport pandas as pd # data processing, CSV file I/O (e.g. pd.read_csv)\nimport tensorflow as tf\nfrom sklearn import model_selection, metrics\nfrom sklearn.preprocessing import Normalizer\nimport matplotlib.pyplot as plt\nimport seaborn as sns\nimport math\nimport keras\nimport glob\n\n\nimport os\nprint(os.listdir(\"../input\"))",
      "execution_count": null,
      "outputs": []
    },
    {
      "metadata": {
        "_cell_guid": "79c7e3d0-c299-4dcb-8224-4455121ee9b0",
        "collapsed": true,
        "_uuid": "d629ff2d2480ee46fbb7e2d37f6b5fab8052498a",
        "trusted": false
      },
      "cell_type": "code",
      "source": "def load_data(train_path='../input/train_V2.csv', test_path='../input/test_V2.csv'):\n    train = pd.DataFrame.from_csv(train_path, index_col=\"Id\")\n    test = pd.DataFrame.from_csv(test_path, index_col=\"Id\")\n    \n    return train, test",
      "execution_count": null,
      "outputs": []
    },
    {
      "metadata": {
        "trusted": true,
        "_uuid": "ff8ff18bf730f63f59bac68283bfcd861384e7e3"
      },
      "cell_type": "code",
      "source": "train, test = load_data()",
      "execution_count": null,
      "outputs": []
    },
    {
      "metadata": {
        "trusted": true,
        "_uuid": "922bb4a02798b18d7248ac52e608b5942a1cd4dc"
      },
      "cell_type": "code",
      "source": "train.dropna(axis=0, inplace=True)",
      "execution_count": null,
      "outputs": []
    },
    {
      "metadata": {
        "trusted": true,
        "_uuid": "2be8542b9989bdb40eb028afc5e6f391f45df0cc"
      },
      "cell_type": "code",
      "source": "train.winPlacePerc = np.where(train.winPlacePerc >= 0.5 , 1, 0)",
      "execution_count": null,
      "outputs": []
    },
    {
      "metadata": {
        "trusted": true,
        "_uuid": "f45d65f4d93099f8f5cb8734dc9252d431b24c2e"
      },
      "cell_type": "code",
      "source": "X_train, X_test, y_train, y_test = model_selection.train_test_split(train.drop('winPlacePerc', axis=1), train.winPlacePerc, test_size=0.2, shuffle=None)",
      "execution_count": null,
      "outputs": []
    },
    {
      "metadata": {
        "trusted": true,
        "_uuid": "c178b258d912a35eaeb6732308317dfc6b714e0f"
      },
      "cell_type": "code",
      "source": "cols = [tf.feature_column.numeric_column(i) for i in X_train.select_dtypes(exclude=['object'])]\nfor i in train.select_dtypes(include=['object']).columns.values:\n    cols.append(tf.feature_column.indicator_column(tf.feature_column.categorical_column_with_vocabulary_list(key=i, vocabulary_list=train[i].unique())))\n# cols.append(matchType)",
      "execution_count": null,
      "outputs": []
    },
    {
      "metadata": {
        "trusted": true,
        "_uuid": "f31aa48af2d17858430c624cf97415d8349227dc"
      },
      "cell_type": "code",
      "source": "def train_classification_model(\n    learning_rate,\n    steps,\n    batch_size,\n    X_train,\n    y_train,\n    X_test,\n    y_test,\n    cols,\n    m_dir,\n    periods):\n\n    steps_per_period = steps / periods  \n\n    training_input_fn = tf.estimator.inputs.pandas_input_fn(\n        x=X_train,\n        y=y_train,\n        shuffle=True,\n    )\n\n    ptraining_input_fn = tf.estimator.inputs.pandas_input_fn(\n        x=X_train,\n        y=y_train,\n        num_epochs=1,\n        shuffle=False,\n    )\n\n    validation_input_fn = tf.estimator.inputs.pandas_input_fn(\n        x=X_test,\n        y=y_test,\n        num_epochs=1,\n        shuffle=False \n    )\n\n    classifier = tf.estimator.BoostedTreesClassifier(\n        feature_columns=cols,\n        n_batches_per_layer=batch_size,\n        n_classes=2,\n        n_trees=20,\n        model_dir=m_dir\n    )\n\n    print(\"Training model...\")\n    print(\"LogLoss error (on validation data):\")\n    training_errors = []\n    validation_errors = []\n    for period in range (0, periods):\n\n        classifier.train(\n            input_fn=training_input_fn,\n            steps=steps_per_period\n        )\n        classifier.evaluate(input_fn=validation_input_fn)\n\n        training_predictions = list(classifier.predict(input_fn=ptraining_input_fn))\n        training_probabilities = np.array([item['probabilities'] for item in training_predictions])\n        training_pred_class_id = np.array([item['class_ids'][0] for item in training_predictions])\n        training_pred_one_hot = tf.keras.utils.to_categorical(training_pred_class_id, 2)\n\n        validation_predictions = list(classifier.predict(input_fn=validation_input_fn))\n        validation_probabilities = np.array([item['probabilities'] for item in validation_predictions])    \n        validation_pred_class_id = np.array([item['class_ids'][0] for item in validation_predictions])\n        validation_pred_one_hot = tf.keras.utils.to_categorical(validation_pred_class_id, 2)    \n        print(\"Hey\")\n\n        training_log_loss = metrics.log_loss(y_train, training_pred_one_hot)\n        validation_log_loss = metrics.log_loss(y_test, validation_pred_one_hot)\n\n        print(\"  period %02d : %0.2f\" % (period, validation_log_loss))\n\n        training_errors.append(training_log_loss)\n        validation_errors.append(validation_log_loss)\n    print(\"Model training finished.\")\n\n    _ = map(os.remove, glob.glob(os.path.join(classifier.model_dir, 'events.out.tfevents*')))\n\n    final_predictions = classifier.predict(input_fn=validation_input_fn)\n    final_predictions = np.array([item['class_ids'][0] for item in final_predictions])\n\n\n    accuracy = metrics.accuracy_score(y_test, final_predictions)\n    print(\"Final accuracy (on validation data): %0.2f\" % accuracy)\n\n    plt.ylabel(\"LogLoss\")\n    plt.xlabel(\"Periods\")\n    plt.title(\"LogLoss vs. Periods\")\n    plt.plot(training_errors, label=\"training\")\n    plt.plot(validation_errors, label=\"validation\")\n    plt.legend()\n    plt.show()\n\n    cm = metrics.confusion_matrix(y_test, final_predictions)\n\n    cm_normalized = cm.astype(\"float\") / cm.sum(axis=1)[:, np.newaxis]\n    ax = sns.heatmap(cm_normalized, cmap=\"bone_r\")\n    ax.set_aspect(1)\n    plt.title(\"Confusion matrix\")\n    plt.ylabel(\"True label\")\n    plt.xlabel(\"Predicted label\")\n    plt.show()\n\n    return classifier",
      "execution_count": null,
      "outputs": []
    },
    {
      "metadata": {
        "trusted": true,
        "_uuid": "de84a50369adbc68661bdb9b9ffdbc74f3ee49bc"
      },
      "cell_type": "code",
      "source": "model = train_classification_model(\n    learning_rate=0.01,\n    steps=100,\n    batch_size=20,\n    X_train=X_train,\n    y_train=y_train,\n    X_test=X_test,\n    y_test=y_test,\n    cols=cols,\n    m_dir='/tmp/model3',\n    periods=10)",
      "execution_count": null,
      "outputs": []
    },
    {
      "metadata": {
        "trusted": true,
        "_uuid": "c13a2e2cf497db28e365cec61e91bc8842cedcf8"
      },
      "cell_type": "code",
      "source": "scores3 = model.predict(input_fn=tf.estimator.inputs.pandas_input_fn(x=test,\n                                                                      num_epochs=1,\n                                                                      shuffle=False))\n\nres = []\nfor i, p in enumerate(scores3):\n    res.append(p['class_ids'][0])   \n\n# result = pd.DataFrame(res, columns=['ImageId', 'Label'])\n# result.to_csv('model1.csv', index=None)",
      "execution_count": null,
      "outputs": []
    },
    {
      "metadata": {
        "trusted": true,
        "_uuid": "310e6a03d31de3136ab1c78fd4437a4d737b11ec"
      },
      "cell_type": "code",
      "source": "submission = pd.DataFrame(\n    {\"Id\": test.index, \"winPlacePerc\": res},\n    columns=[\"Id\", \"winPlacePerc\"]\n)\nsubmission.to_csv(\"submission.csv\", index=False)",
      "execution_count": null,
      "outputs": []
    },
    {
      "metadata": {
        "trusted": true,
        "_uuid": "28263322f095c8017fce099b4019d6d0d4d5b386"
      },
      "cell_type": "code",
      "source": "",
      "execution_count": null,
      "outputs": []
    },
    {
      "metadata": {
        "trusted": true,
        "_uuid": "6cf760ae784e6aa0597d794cc2ad9aa4bb6888e2"
      },
      "cell_type": "code",
      "source": "",
      "execution_count": null,
      "outputs": []
    }
  ],
  "metadata": {
    "kernelspec": {
      "display_name": "Python 3",
      "language": "python",
      "name": "python3"
    },
    "language_info": {
      "name": "python",
      "version": "3.6.6",
      "mimetype": "text/x-python",
      "codemirror_mode": {
        "name": "ipython",
        "version": 3
      },
      "pygments_lexer": "ipython3",
      "nbconvert_exporter": "python",
      "file_extension": ".py"
    }
  },
  "nbformat": 4,
  "nbformat_minor": 1
}