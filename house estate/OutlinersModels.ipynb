{
 "cells": [
  {
   "cell_type": "code",
   "execution_count": 1,
   "metadata": {},
   "outputs": [
    {
     "name": "stderr",
     "output_type": "stream",
     "text": [
      "/home/lazukav/anaconda3/lib/python3.5/site-packages/requests/__init__.py:91: RequestsDependencyWarning: urllib3 (1.15) or chardet (3.0.4) doesn't match a supported version!\n",
      "  RequestsDependencyWarning)\n"
     ]
    },
    {
     "name": "stdout",
     "output_type": "stream",
     "text": [
      "['NaiveModels.ipynb', '.ipynb_checkpoints', 'test.csv', 'train.csv', 'NaNHandleModels.ipynb', 'HousePrices.ipynb', 'OutlinersModels.ipynb', 'EDA.ipynb']\n"
     ]
    }
   ],
   "source": [
    "import numpy as np\n",
    "import pandas as pd\n",
    "import tensorflow as tf\n",
    "from sklearn import model_selection, metrics\n",
    "import matplotlib.pyplot as plt\n",
    "import seaborn as sns\n",
    "import math\n",
    "\n",
    "import os\n",
    "print(os.listdir(\".\"))"
   ]
  },
  {
   "cell_type": "code",
   "execution_count": 2,
   "metadata": {},
   "outputs": [],
   "source": [
    "pd.set_option('display.max_columns', None)  # or 1000\n",
    "pd.set_option('display.max_rows', None)  # or 1000\n",
    "pd.set_option('display.max_colwidth', -1)  # or 199"
   ]
  },
  {
   "cell_type": "code",
   "execution_count": 3,
   "metadata": {},
   "outputs": [],
   "source": [
    "def load_data(train_path='train.csv', test_path='test.csv'):\n",
    "    train = pd.DataFrame.from_csv(train_path, index_col=0)\n",
    "    test = pd.DataFrame.from_csv(test_path, index_col=0)\n",
    "              \n",
    "    return train, test"
   ]
  },
  {
   "cell_type": "code",
   "execution_count": 4,
   "metadata": {},
   "outputs": [
    {
     "name": "stderr",
     "output_type": "stream",
     "text": [
      "/home/lazukav/anaconda3/lib/python3.5/site-packages/ipykernel_launcher.py:2: FutureWarning: from_csv is deprecated. Please use read_csv(...) instead. Note that some of the default arguments are different, so please refer to the documentation for from_csv when changing your function calls\n",
      "  \n",
      "/home/lazukav/anaconda3/lib/python3.5/site-packages/ipykernel_launcher.py:3: FutureWarning: from_csv is deprecated. Please use read_csv(...) instead. Note that some of the default arguments are different, so please refer to the documentation for from_csv when changing your function calls\n",
      "  This is separate from the ipykernel package so we can avoid doing imports until\n"
     ]
    }
   ],
   "source": [
    "train, test = load_data()"
   ]
  },
  {
   "cell_type": "code",
   "execution_count": 5,
   "metadata": {},
   "outputs": [],
   "source": [
    "def preprocessing(data):\n",
    "    cols_drop = [\"MiscFeature\", \"Fence\", \"PoolQC\", \"Alley\", \"FireplaceQu\"]\n",
    "    data.drop(columns=cols_drop, axis=1, inplace=True)\n",
    "#     Categorical\n",
    "    obj_df = data.select_dtypes(include=['object']).copy()\n",
    "    cols = [\"BsmtQual\", \"BsmtCond\", \"BsmtExposure\",\"BsmtFinType1\", \"BsmtFinType2\"]\n",
    "    for i in cols:\n",
    "        obj_df[i].fillna(obj_df[i].value_counts().idxmax(), inplace=True)\n",
    "    obj_df['Electrical'].fillna(obj_df['Electrical'].value_counts().idxmax(), inplace=True)\n",
    "    obj_df.loc[:, [\"GarageType\", \"GarageFinish\", \"GarageQual\", \"GarageCond\"]] = obj_df.loc[:, [\"GarageType\", \"GarageFinish\", \"GarageQual\", \"GarageCond\"]].fillna(\"None\")\n",
    "    obj_df[\"MasVnrType\"].fillna(\"None\", inplace=True)\n",
    "#     Numerical\n",
    "    num_df = data.select_dtypes(exclude=['object']).copy()\n",
    "    num_df['GarageYrBlt'].fillna(0, inplace=True)\n",
    "    num_df['MasVnrArea'].fillna(num_df['MasVnrArea'].value_counts().idxmax(), inplace=True)\n",
    "    num_df['LotFrontage'].fillna(num_df['LotFrontage'].value_counts().idxmax(), inplace=True)\n",
    "    cols=['MSSubClass', 'LotFrontage', 'LotArea', 'OverallQual', 'YearBuilt', 'YearRemodAdd',\n",
    "       'BsmtFinSF1', 'BsmtFinSF2', 'BsmtUnfSF', 'TotalBsmtSF', '1stFlrSF',\n",
    "       '2ndFlrSF', 'LowQualFinSF', 'BsmtFullBath',\n",
    "       'BsmtHalfBath', 'KitchenAbvGr', 'TotRmsAbvGrd', 'Fireplaces', 'GarageArea', 'WoodDeckSF', 'OpenPorchSF',\n",
    "       'EnclosedPorch', '3SsnPorch', 'ScreenPorch', 'PoolArea', 'MiscVal']\n",
    "    for i in cols:\n",
    "        num_df[i].clip(upper=num_df[i].quantile(0.99999), inplace=True)\n",
    "    num_norm = (num_df - num_df.mean()) / (num_df.max() - num_df.min())\n",
    "    return pd.concat([obj_df, num_norm], axis=1)"
   ]
  },
  {
   "cell_type": "code",
   "execution_count": 6,
   "metadata": {},
   "outputs": [],
   "source": [
    "train = preprocessing(train)\n",
    "test = preprocessing(test)\n",
    "train_y = train.SalePrice \n",
    "train_X = train.drop('SalePrice', axis=1)"
   ]
  },
  {
   "cell_type": "code",
   "execution_count": null,
   "metadata": {},
   "outputs": [],
   "source": []
  },
  {
   "cell_type": "markdown",
   "metadata": {},
   "source": [
    "# Model with missing data and outliers handling"
   ]
  },
  {
   "cell_type": "code",
   "execution_count": 7,
   "metadata": {},
   "outputs": [],
   "source": [
    "X_train, X_test, y_train, y_test = model_selection.train_test_split(train_X, train_y, test_size=0.2, shuffle=None)"
   ]
  },
  {
   "cell_type": "code",
   "execution_count": 8,
   "metadata": {},
   "outputs": [],
   "source": [
    "def regressor_model(\n",
    "    learning_rate,\n",
    "    steps,\n",
    "    batch_size,\n",
    "    X_train,\n",
    "    y_train,\n",
    "    X_test,\n",
    "    y_test,\n",
    "    cols):\n",
    "    periods = 10\n",
    "    steps_per_period = steps / periods\n",
    "    # Create a linear classifier object.\n",
    "    my_optimizer = tf.train.GradientDescentOptimizer(learning_rate=learning_rate)\n",
    "    my_optimizer = tf.contrib.estimator.clip_gradients_by_norm(my_optimizer, 5.0)  \n",
    "    regressor = tf.estimator.DNNRegressor(\n",
    "        feature_columns=cols,\n",
    "        optimizer=my_optimizer,\n",
    "        hidden_units=[64, 128, 64],\n",
    "        model_dir='/tmp/model4'\n",
    "    )\n",
    "  \n",
    "    training_input_fn = tf.estimator.inputs.pandas_input_fn(\n",
    "        x=X_train,\n",
    "        y=y_train,\n",
    "    #     num_epochs=None,\n",
    "        shuffle=True,\n",
    "    #     target_column='target'\n",
    "    )\n",
    "\n",
    "    ptraining_input_fn = tf.estimator.inputs.pandas_input_fn(\n",
    "        x=X_train,\n",
    "        y=y_train,\n",
    "        num_epochs=1,\n",
    "        shuffle=False,\n",
    "    )\n",
    "\n",
    "    validation_input_fn = tf.estimator.inputs.pandas_input_fn(\n",
    "        x=X_test,\n",
    "        y=y_test,\n",
    "        num_epochs=1,\n",
    "        shuffle=False \n",
    "    )\n",
    "  \n",
    "    # Train the model, but do so inside a loop so that we can periodically assess\n",
    "    # loss metrics.\n",
    "    print(\"Training model...\")\n",
    "    print(\"LogLoss (on training data):\")\n",
    "    training_rmse = []\n",
    "    validation_rmse = []\n",
    "    for period in range (0, periods):\n",
    "        # Train the model, starting from the prior state.\n",
    "        regressor.train(\n",
    "            input_fn=training_input_fn,\n",
    "            steps=steps_per_period\n",
    "        )\n",
    "        \n",
    "        # Take a break and compute predictions.\n",
    "        training_predictions = regressor.predict(input_fn=ptraining_input_fn)\n",
    "        training_predictions = np.array([item['predictions'][0] for item in training_predictions])\n",
    "        \n",
    "        validation_predictions = regressor.predict(input_fn=validation_input_fn)\n",
    "        validation_predictions = np.array([item['predictions'][0] for item in validation_predictions])\n",
    "        \n",
    "        # Compute training and validation loss.\n",
    "        training_root_mean_squared_error = math.sqrt(\n",
    "            metrics.mean_squared_error(training_predictions, y_train))\n",
    "        validation_root_mean_squared_error = math.sqrt(\n",
    "            metrics.mean_squared_error(validation_predictions, y_test))\n",
    "        # Occasionally print the current loss.\n",
    "        print(\"  period %02d : %0.2f\" % (period, training_root_mean_squared_error))\n",
    "        # Add the loss metrics from this period to our list.\n",
    "        training_rmse.append(training_root_mean_squared_error)\n",
    "        validation_rmse.append(validation_root_mean_squared_error)\n",
    "    print(\"Model training finished.\")\n",
    "\n",
    "    # Output a graph of loss metrics over periods.\n",
    "    plt.ylabel(\"RMSE\")\n",
    "    plt.xlabel(\"Periods\")\n",
    "    plt.title(\"Root Mean Squared Error vs. Periods\")\n",
    "    plt.tight_layout()\n",
    "    plt.plot(training_rmse, label=\"training\")\n",
    "    plt.plot(validation_rmse, label=\"validation\")\n",
    "    plt.legend()\n",
    "\n",
    "    print(\"Final RMSE (on training data):   %0.2f\" % training_root_mean_squared_error)\n",
    "    print(\"Final RMSE (on validation data): %0.2f\" % validation_root_mean_squared_error)\n",
    "\n",
    "    return regressor, training_rmse, validation_rmse"
   ]
  },
  {
   "cell_type": "code",
   "execution_count": 9,
   "metadata": {},
   "outputs": [],
   "source": [
    "# yearb = tf.feature_column.numeric_column('YearBuilt')\n",
    "cols = []\n",
    "# cond = tf.feature_column.categorical_column_with_vocabulary_list('SaleCondition', ['Normal', 'Abnorml', 'Partial', 'AdjLand', 'Alloca', 'Family'])\n",
    "\n",
    "\n",
    "cols = [tf.feature_column.numeric_column(i) for i in train_X.select_dtypes(exclude=['object']).columns.values]\n",
    "# cols = [yearb]\n",
    "# cols = [cond]"
   ]
  },
  {
   "cell_type": "code",
   "execution_count": 10,
   "metadata": {},
   "outputs": [
    {
     "name": "stderr",
     "output_type": "stream",
     "text": [
      "WARNING: Logging before flag parsing goes to stderr.\n",
      "W0304 19:31:49.146398 140636947023616 deprecation.py:323] From /home/lazukav/anaconda3/lib/python3.5/site-packages/tensorflow/python/training/training_util.py:238: Variable.initialized_value (from tensorflow.python.ops.variables) is deprecated and will be removed in a future version.\n",
      "Instructions for updating:\n",
      "Use Variable.read_value. Variables in 2.X are initialized automatically both in eager and graph (inside tf.defun) contexts.\n"
     ]
    },
    {
     "name": "stdout",
     "output_type": "stream",
     "text": [
      "\n",
      "WARNING: The TensorFlow contrib module will not be included in TensorFlow 2.0.\n",
      "For more information, please see:\n",
      "  * https://github.com/tensorflow/community/blob/master/rfcs/20180907-contrib-sunset.md\n",
      "  * https://github.com/tensorflow/addons\n",
      "If you depend on functionality not listed there, please file an issue.\n",
      "\n",
      "Training model...\n",
      "LogLoss (on training data):\n"
     ]
    },
    {
     "name": "stderr",
     "output_type": "stream",
     "text": [
      "W0304 19:31:49.366794 140636947023616 deprecation.py:323] From /home/lazukav/anaconda3/lib/python3.5/site-packages/tensorflow_estimator/python/estimator/inputs/queues/feeding_queue_runner.py:62: QueueRunner.__init__ (from tensorflow.python.training.queue_runner_impl) is deprecated and will be removed in a future version.\n",
      "Instructions for updating:\n",
      "To construct input pipelines, use the `tf.data` module.\n",
      "W0304 19:31:49.371745 140636947023616 deprecation.py:323] From /home/lazukav/anaconda3/lib/python3.5/site-packages/tensorflow_estimator/python/estimator/inputs/queues/feeding_functions.py:500: add_queue_runner (from tensorflow.python.training.queue_runner_impl) is deprecated and will be removed in a future version.\n",
      "Instructions for updating:\n",
      "To construct input pipelines, use the `tf.data` module.\n",
      "W0304 19:31:49.391657 140636947023616 deprecation.py:506] From /home/lazukav/anaconda3/lib/python3.5/site-packages/tensorflow/python/ops/init_ops.py:1257: calling VarianceScaling.__init__ (from tensorflow.python.ops.init_ops) with dtype is deprecated and will be removed in a future version.\n",
      "Instructions for updating:\n",
      "Call initializer instance with the dtype argument instead of passing it to the constructor\n",
      "W0304 19:31:49.408254 140636947023616 deprecation.py:323] From /home/lazukav/anaconda3/lib/python3.5/site-packages/tensorflow/python/feature_column/feature_column_v2.py:2758: to_float (from tensorflow.python.ops.math_ops) is deprecated and will be removed in a future version.\n",
      "Instructions for updating:\n",
      "Use tf.cast instead.\n",
      "W0304 19:31:50.424813 140636947023616 deprecation.py:323] From /home/lazukav/anaconda3/lib/python3.5/site-packages/tensorflow/python/training/monitored_session.py:827: start_queue_runners (from tensorflow.python.training.queue_runner_impl) is deprecated and will be removed in a future version.\n",
      "Instructions for updating:\n",
      "To construct input pipelines, use the `tf.data` module.\n",
      "W0304 19:31:52.746273 140636947023616 deprecation.py:323] From /home/lazukav/anaconda3/lib/python3.5/site-packages/tensorflow/python/training/saver.py:1276: checkpoint_exists (from tensorflow.python.training.checkpoint_management) is deprecated and will be removed in a future version.\n",
      "Instructions for updating:\n",
      "Use standard file APIs to check for files with this prefix.\n"
     ]
    },
    {
     "name": "stdout",
     "output_type": "stream",
     "text": [
      "  period 00 : 0.09\n"
     ]
    },
    {
     "name": "stderr",
     "output_type": "stream",
     "text": [
      "W0304 19:31:55.389685 140636947023616 deprecation.py:323] From /home/lazukav/anaconda3/lib/python3.5/site-packages/tensorflow/python/training/saver.py:1069: get_checkpoint_mtimes (from tensorflow.python.training.checkpoint_management) is deprecated and will be removed in a future version.\n",
      "Instructions for updating:\n",
      "Use standard file utilities to get mtimes.\n"
     ]
    },
    {
     "name": "stdout",
     "output_type": "stream",
     "text": [
      "  period 01 : 0.08\n",
      "  period 02 : 0.07\n",
      "  period 03 : 0.07\n"
     ]
    },
    {
     "name": "stderr",
     "output_type": "stream",
     "text": [
      "W0304 19:32:10.194617 140636947023616 deprecation.py:323] From /home/lazukav/anaconda3/lib/python3.5/site-packages/tensorflow/python/training/saver.py:965: remove_checkpoint (from tensorflow.python.training.checkpoint_management) is deprecated and will be removed in a future version.\n",
      "Instructions for updating:\n",
      "Use standard file APIs to delete files with this prefix.\n"
     ]
    },
    {
     "name": "stdout",
     "output_type": "stream",
     "text": [
      "  period 04 : 0.07\n",
      "  period 05 : 0.07\n",
      "  period 06 : 0.06\n",
      "  period 07 : 0.06\n",
      "  period 08 : 0.06\n",
      "  period 09 : 0.06\n",
      "Model training finished.\n",
      "Final RMSE (on training data):   0.06\n",
      "Final RMSE (on validation data): 0.05\n"
     ]
    },
    {
     "data": {
      "image/png": "[encoded data removed]",
      "text/plain": [
       "<Figure size 432x288 with 1 Axes>"
      ]
     },
     "metadata": {
      "needs_background": "light"
     },
     "output_type": "display_data"
    }
   ],
   "source": [
    "regressor = regressor_model(\n",
    "    learning_rate=0.005,\n",
    "    steps=500,\n",
    "    batch_size=20,\n",
    "    X_train=X_train,\n",
    "    y_train=y_train,\n",
    "    X_test=X_test,\n",
    "    y_test=y_test,\n",
    "    cols=cols)"
   ]
  },
  {
   "cell_type": "code",
   "execution_count": null,
   "metadata": {},
   "outputs": [],
   "source": []
  }
 ],
 "metadata": {
  "kernelspec": {
   "display_name": "Python 3",
   "language": "python",
   "name": "python3"
  },
  "language_info": {
   "codemirror_mode": {
    "name": "ipython",
    "version": 3
   },
   "file_extension": ".py",
   "mimetype": "text/x-python",
   "name": "python",
   "nbconvert_exporter": "python",
   "pygments_lexer": "ipython3",
   "version": "3.5.6"
  }
 },
 "nbformat": 4,
 "nbformat_minor": 2
}
